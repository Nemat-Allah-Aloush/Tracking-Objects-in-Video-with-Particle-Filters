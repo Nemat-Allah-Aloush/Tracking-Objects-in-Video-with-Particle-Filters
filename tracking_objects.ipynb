{
 "cells": [
  {
   "cell_type": "markdown",
   "metadata": {},
   "source": [
    "Tracking Objects in Video with Particle Filters\n",
    "==============================================="
   ]
  },
  {
   "cell_type": "markdown",
   "metadata": {},
   "source": [
    "Import libraries"
   ]
  },
  {
   "cell_type": "code",
   "execution_count": 81,
   "metadata": {},
   "outputs": [],
   "source": [
    "import numpy as np\n",
    "import cv2\n",
    "\n",
    "# Repeatability\n",
    "np.random.seed(0)\n",
    "\n",
    "VFILENAME = \"walking.mp4\" #Video name\n",
    "HEIGHT = 406 \n",
    "WIDTH = 722"
   ]
  },
  {
   "cell_type": "markdown",
   "metadata": {},
   "source": [
    "Load video frames from file"
   ]
  },
  {
   "cell_type": "code",
   "execution_count": 82,
   "metadata": {},
   "outputs": [],
   "source": [
    "def get_frames(filename):\n",
    "    # cv.VideoCapture return a video object\n",
    "    video = cv2.VideoCapture(filename)\n",
    "    # while the video is opened we take the frames \n",
    "    while video.isOpened():\n",
    "        # read() returns a status flag and the frame (array of pixel color values)\n",
    "        ret, frame=video.read()\n",
    "        if ret: \n",
    "            # as long as the status valid, we will yeild the frame\n",
    "            # this will turns the function to a python generator \n",
    "            # to call it over and over again and to keep looping and \n",
    "            # yeilding frames\n",
    "            yield frame\n",
    "        else:\n",
    "            break\n",
    "    video.release() # release the resources\n",
    "    yield None\n",
    "    return []"
   ]
  },
  {
   "cell_type": "markdown",
   "metadata": {},
   "source": [
    "Creating a particle cloud"
   ]
  },
  {
   "cell_type": "code",
   "execution_count": 83,
   "metadata": {},
   "outputs": [],
   "source": [
    "NUM_PARTICLES = 150 # 150 is enough now,\n",
    "VEL_RANGE=0.5 #Intitial velocity range (assuming the target is not moving faster that 0.5 pixel over a frame)\n",
    "def initialize_particles():\n",
    "    # particles array (NUM_PATICLES*4) filled with random numbers between NUM_PATICLES 0 and 1\n",
    "    particles = np.random.rand(NUM_PARTICLES,4)\n",
    "    # scaling the numbers :first colomn ->x position, 2nd -> y position , \n",
    "    # 3th & 4th -> velocity x,y\n",
    "    particles = particles * np.array((WIDTH, HEIGHT, VEL_RANGE,VEL_RANGE)  )\n",
    "    # velocities centered at zero => shifting velocities down\n",
    "    particles[:,2:4] -= VEL_RANGE/2.0  # all rows with 2nd and 4th colomn\n",
    "    return []"
   ]
  },
  {
   "cell_type": "markdown",
   "metadata": {},
   "source": [
    "Moving particles according to their velocity state"
   ]
  },
  {
   "cell_type": "code",
   "execution_count": 84,
   "metadata": {},
   "outputs": [],
   "source": [
    "# Updating the x,y of the particles according to the velocity\n",
    "def apply_velocity(particles):\n",
    "    particles[:][0] += particles[:][2] # x = x + u\n",
    "    particles[:,1] += particles[:,3]\n",
    "    return particles"
   ]
  },
  {
   "cell_type": "markdown",
   "metadata": {},
   "source": [
    "Prevent particles from falling off the edge of the video frame"
   ]
  },
  {
   "cell_type": "code",
   "execution_count": 85,
   "metadata": {},
   "outputs": [],
   "source": [
    "def enforce_edges(particles):\n",
    "    for i in len(particles):\n",
    "        particles[i,0] = max(0,min(WIDTH-1, particles[i,0])) # prevent x from falling inder zero or out of the upper edge\n",
    "        particles[i,1] = max(0,min(HEIGHT-1, particles[i,])) # prevent y\n",
    "    return particles"
   ]
  },
  {
   "cell_type": "markdown",
   "metadata": {},
   "source": [
    "Measure each particle's quality"
   ]
  },
  {
   "cell_type": "code",
   "execution_count": 86,
   "metadata": {},
   "outputs": [],
   "source": [
    "def compute_errors(particles, frame):\n",
    "    errors = np.zeros(NUM_PARTICLES) # color differences from the target\n",
    "    TARGET_COLOUR = np.array( (189,105,82) ) # Blue top sleeve pixel colour\n",
    "#    TARGET_COLOUR = np.array( (148, 73, 49) ) # Blue top sleeve pixel colour\n",
    "    for i in range(NUM_PARTICLES):\n",
    "        x = int(particles[i,0])\n",
    "        y = int(particles[i,1])\n",
    "        pixel_colour = frame[ y, x, : ] # pulling the three values of color of the pixel\n",
    "        errors[i] = np.sum( ( TARGET_COLOUR - pixel_colour )**2 ) # MSE in colour space\n",
    "    return errors"
   ]
  },
  {
   "cell_type": "markdown",
   "metadata": {},
   "source": [
    "Assign weights to the particles based on their quality of match"
   ]
  },
  {
   "cell_type": "code",
   "execution_count": 87,
   "metadata": {},
   "outputs": [],
   "source": [
    "# we want to keep the pixels with small errors bwcuase that means that they are mor similar to the target\n",
    "# less error -> higher weight\n",
    "def compute_weights(errors):\n",
    "    weights = np.max(errors) - errors\n",
    "    # set the weights of the edges to zero\n",
    "    weights[ \n",
    "        (particles[ :,0 ] == 0) |\n",
    "        (particles[ :,0 ] == WIDTH-1) |\n",
    "        (particles[ :,1 ] == 0) |\n",
    "        (particles[ :,1 ] == HEIGHT-1)\n",
    "    ] = 0.0\n",
    "    \n",
    "    # Make weights more sensitive to colour difference.\n",
    "    # Cubing a set of numbers in the interval [0,1], \n",
    "    #the farther a number is from 1, the more it gets squashed toward zero\n",
    "    weights = weights**4\n",
    "    \n",
    "    return weights"
   ]
  },
  {
   "cell_type": "markdown",
   "metadata": {},
   "source": [
    "Resample particles according to their weights"
   ]
  },
  {
   "cell_type": "code",
   "execution_count": 88,
   "metadata": {},
   "outputs": [],
   "source": [
    "def resample(particles, weights):\n",
    "    # Normalize to get valid PDF, to be used as a probability distribution\n",
    "    probabilities = weights / np.sum(weights)\n",
    "\n",
    "    # Resample according to the previous probabilities \n",
    "    # Building a new particle array by sampling from the previous array \n",
    "    #the values with high weight will be choosen multiple times\n",
    "    # the vlaues with low weight may not be chosen at all\n",
    "    indices = np.random.choice(\n",
    "        NUM_PARTICLES, # sampling from zero to NUM_PARTICLES\n",
    "        size=NUM_PARTICLES, # number of points to be sampled \n",
    "        p=probabilities) # probability distribution\n",
    "    particles = particles[ indices, : ] # building the particles according to the indices from the sampling\n",
    "    \n",
    "    # Take average over all particles, best-guess for location of the target\n",
    "    x = np.mean(particles[:,0])\n",
    "    y = np.mean(particles[:,1])\n",
    "    return particles, (int(x),int(y))"
   ]
  },
  {
   "cell_type": "markdown",
   "metadata": {},
   "source": [
    "Fuzz the particles"
   ]
  },
  {
   "cell_type": "code",
   "execution_count": 89,
   "metadata": {},
   "outputs": [],
   "source": [
    "def apply_noise(particles):\n",
    "    # Noise is good!  Noise expresses our uncertainty in the target's position and velocity\n",
    "    # We add small variations to each hypothesis that were samples from the best ones in last iteration.\n",
    "    # The target's position and velocity may have changed since the last frame,\n",
    "    #some of the fuzzed hypotheses will match these changes.\n",
    "    # We will apply gaussian noise\n",
    "    POS_SIGMA = 1.0 #standard daviation\n",
    "    VEL_SIGMA = 0.5\n",
    "    noise = np.concatenate(\n",
    "        (\n",
    "            np.random.normal(0.0, POS_SIGMA, (NUM_PARTICLES,1)), # x position\n",
    "            np.random.normal(0.0, POS_SIGMA, (NUM_PARTICLES,1)),\n",
    "            np.random.normal(0.0, VEL_SIGMA, (NUM_PARTICLES,1)),\n",
    "            np.random.normal(0.0, VEL_SIGMA, (NUM_PARTICLES,1))\n",
    "        ),\n",
    "        axis=1 # concatenate colomn wise \n",
    "    )\n",
    "    particles += noise\n",
    "    return particles"
   ]
  },
  {
   "cell_type": "markdown",
   "metadata": {},
   "source": [
    "Display the video frames"
   ]
  },
  {
   "cell_type": "code",
   "execution_count": 90,
   "metadata": {},
   "outputs": [],
   "source": [
    "def display(frame, particles, location):\n",
    "        if len(particles)>0:\n",
    "            for i in range(NUM_PARTICLES):\n",
    "                x=int(particles[i,0]) #we cast the values to int to use them as Pixel coordinates\n",
    "                y=int(particles[i,1])\n",
    "                # draw thaat particle as a circle on top of the frame\n",
    "                # parameters for circle() # frame, circle center, radius, color (BGR not RGB)=green,thickness in pixel\n",
    "                cv2.circle(frame,(x,y),1,(0,255,0),1) \n",
    "        # we use location to draw a circle where the target is \n",
    "        if len(location)> 0: #location is a tuple of x and y\n",
    "            cv2.circle(frame,location,15,(0,0,255),5) # color is red\n",
    "        cv2.imshow('frame',frame) # display the video frame\n",
    "        # video playback and stopping it\n",
    "        if cv2.waitKey(30)== 27: # wait for 30 milisecond for a keypress\n",
    "            if cv2.waitKey(0)==27: # wait infinite amount of time for a key press\n",
    "                return True # to stop the playback\n",
    "        return False"
   ]
  },
  {
   "cell_type": "markdown",
   "metadata": {},
   "source": [
    "Main routine"
   ]
  },
  {
   "cell_type": "code",
   "execution_count": null,
   "metadata": {},
   "outputs": [],
   "source": [
    "particles = initialize_particles()\n",
    "\n",
    "for frame in get_frames(VFILENAME):\n",
    "    if frame is None: break\n",
    "    # we should include the velocity in the particle state, to keep the circle following the target\n",
    "    particles = apply_velocity(particles)\n",
    "    particles = enforce_edges(particles)\n",
    "    errors = compute_errors(particles, frame)\n",
    "    weights = compute_weights(errors)\n",
    "    particles, location = resample(particles, weights)\n",
    "    particles = apply_noise(particles)\n",
    "    terminate = display(frame, particles, location)\n",
    "    if terminate:\n",
    "        break\n",
    "cv2.destroyAllWindows()\n"
   ]
  }
 ],
 "metadata": {
  "kernelspec": {
   "display_name": "Python 3",
   "language": "python",
   "name": "python3"
  },
  "language_info": {
   "codemirror_mode": {
    "name": "ipython",
    "version": 3
   },
   "file_extension": ".py",
   "mimetype": "text/x-python",
   "name": "python",
   "nbconvert_exporter": "python",
   "pygments_lexer": "ipython3",
   "version": "3.6.9"
  }
 },
 "nbformat": 4,
 "nbformat_minor": 4
}
